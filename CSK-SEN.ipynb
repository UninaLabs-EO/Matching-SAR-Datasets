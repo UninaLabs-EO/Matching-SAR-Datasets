{
 "cells": [
  {
   "cell_type": "code",
   "execution_count": 1,
   "metadata": {},
   "outputs": [],
   "source": [
    "import pandas as pd\n",
    "import numpy as np\n",
    "import geopandas as gpd\n",
    "from shapely.geometry import Polygon, MultiPolygon\n",
    "from shapely import wkt\n",
    "import folium\n",
    "from drawer import *\n",
    "# from shapely.ops import unary_union # unire poligons\n",
    "from IPython import get_ipython\n",
    "ipython = get_ipython()"
   ]
  },
  {
   "cell_type": "code",
   "execution_count": 9,
   "metadata": {},
   "outputs": [],
   "source": [
    "# %cd Matching-SAR-Datasets\n",
    "# !dir"
   ]
  },
  {
   "cell_type": "markdown",
   "metadata": {},
   "source": [
    "# ADRIATICO SEN-CSK\n"
   ]
  },
  {
   "cell_type": "markdown",
   "metadata": {},
   "source": [
    "## Plot without AOI"
   ]
  },
  {
   "cell_type": "code",
   "execution_count": null,
   "metadata": {},
   "outputs": [],
   "source": [
    "df = pd.read_csv('Coppie\\\\Adriatico_CSK_SEN_15min.csv')\n",
    "csk, sen = df['CSK'], df['SEN'] \n",
    "\n",
    "SRC_ADR_CSK = pd.read_excel('SRC\\Adriatico\\SRC\\Adriatico_CSK.xlsx', engine='openpyxl')\n",
    "SRC_ADR_SEN = pd.read_csv('SRC\\Adriatico\\Sentinel_CSV.csv')\n",
    "\n",
    "IoUs, multi_polygons = [], []\n",
    "for i in range(len(df)):\n",
    "     poly1 = GetSen_Poly(sen[i], SRC_ADR_SEN) # Sentinel-1\n",
    "     poly2 = GetCSK_Poly(csk[i], SRC_ADR_CSK) # Cosmo-Skymed\n",
    "     IoUs.append(IoU(poly1, poly2))\n",
    "     multi_polygons.append(MultiPolygon([poly1,poly2])) # get centroid with P.centroid (P=polygon)\n",
    "\n",
    "df.insert(3, \"IoU\", IoUs, True)\n",
    "gdf = gpd.GeoDataFrame(df, geometry=multi_polygons)\n",
    "gdf.drop(gdf.columns[gdf.columns.str.contains('unnamed',case = False)],axis = 1, inplace = True)\n",
    "gdf[gdf['IoU']>0].to_csv('FinalMatches\\\\Adriatico\\\\Spatio-Temporal_Adriatic_CSK-SEN.csv')\n",
    "gdf.to_csv('FinalMatches\\\\Adriatico\\\\ALL_Adriatic_CSK-SEN.csv')\n",
    "# gdf[gdf['IoU']>0]\n",
    "# gdf\n",
    "# PlotProducts( gdf, 288)\n",
    "for id in range(len(df)):\n",
    "     mappa = PlotProducts( gdf, id)\n",
    "     if gdf.iloc[id].IoU> 0:\n",
    "          cond = 'matched'     \n",
    "     else:\n",
    "          cond ='sparse'\n",
    "\n",
    "\n",
    "     mappa.save(f'FinalMatches\\\\Adriatico\\\\id_{id}__{cond}.html')"
   ]
  },
  {
   "cell_type": "markdown",
   "metadata": {},
   "source": [
    "## Plot with AOI"
   ]
  },
  {
   "cell_type": "code",
   "execution_count": 10,
   "metadata": {},
   "outputs": [],
   "source": [
    "df = pd.read_csv('Coppie\\\\Adriatico_CSK_SEN_15min.csv')\n",
    "csk, sen = df['CSK'], df['SEN'] \n",
    "\n",
    "SRC_ADR_CSK = pd.read_excel('SRC\\Adriatico\\SRC\\Adriatico_CSK.xlsx', engine='openpyxl')\n",
    "SRC_ADR_SEN = pd.read_csv('SRC\\Adriatico\\Sentinel_CSV.csv')\n",
    "\n",
    "IoUs, multi_polygons = [], []\n",
    "for i in range(len(df)):\n",
    "     poly1 = GetSen_Poly(sen[i], SRC_ADR_SEN) # Sentinel-1\n",
    "     poly2 = GetCSK_Poly(csk[i], SRC_ADR_CSK) # Cosmo-Skymed\n",
    "     IoUs.append(IoU(poly1, poly2))\n",
    "     multi_polygons.append(MultiPolygon([poly1,poly2])) # get centroid with P.centroid (P=polygon)\n",
    "\n",
    "df.insert(3, \"IoU\", IoUs, True)\n",
    "gdf = gpd.GeoDataFrame(df, geometry=multi_polygons)\n",
    "gdf.drop(gdf.columns[gdf.columns.str.contains('unnamed',case = False)],axis = 1, inplace = True)\n",
    "# gdf[gdf['IoU']>0].to_csv('FinalMatches\\\\Adriatico\\\\Spatio-Temporal_Adriatic_CSK-SEN.csv')\n",
    "# gdf.to_csv('FinalMatches\\\\Adriatico\\\\ALL_Adriatic_CSK-SEN.csv')\n",
    "\n",
    "kml = get_poly_from_kml(path=\"AOI\\\\roi-2021-05-12T14_11_52.461Z.kml\")\n",
    "\n",
    "for id in range(len(df)):\n",
    "     mappa = PlotProducts_AOI( gdf, id, aoi=kml)\n",
    "     if gdf.iloc[id].IoU> 0:\n",
    "          cond = 'matched'     \n",
    "     else:\n",
    "          cond ='sparse'\n",
    "\n",
    "\n",
    "     mappa.save(f'FinalMatches\\\\Adriatico\\\\CSK-SEN-AOI\\\\id_{id}__{cond}.html')"
   ]
  },
  {
   "cell_type": "markdown",
   "metadata": {},
   "source": [
    "# ALBOREAN SEN-CSK"
   ]
  },
  {
   "cell_type": "markdown",
   "metadata": {},
   "source": [
    "## Plot without AOI"
   ]
  },
  {
   "cell_type": "code",
   "execution_count": null,
   "metadata": {},
   "outputs": [],
   "source": [
    "df = pd.read_csv('Coppie\\Alborean_CSK_SEN_15min.csv')\n",
    "csk, sen = df['CSK'], df['SEN'] \n",
    "\n",
    "SRC_ALB_CSK = pd.read_excel('SRC\\\\Alborean\\\\Alborean_CSK.xlsx', engine='openpyxl')\n",
    "SRC_ALB_SEN = pd.read_csv('SRC\\\\Alborean\\\\Alborean_Sentinel.csv')\n",
    "\n",
    "IoUs, multi_polygons = [], []\n",
    "for i in range(len(df)):\n",
    "     poly1 = GetSen_Poly(sen[i], SRC_ALB_SEN) # Sentinel-1\n",
    "     poly2 = GetCSK_Poly(csk[i], SRC_ALB_CSK) # Cosmo-Skymed\n",
    "     IoUs.append(IoU(poly1, poly2))\n",
    "     multi_polygons.append(MultiPolygon([poly1,poly2])) # get centroid with P.centroid (P=polygon)\n",
    "\n",
    "df.insert(3, \"IoU\", IoUs, True)\n",
    "gdf = gpd.GeoDataFrame(df, geometry=multi_polygons)\n",
    "gdf.drop(gdf.columns[gdf.columns.str.contains('unnamed',case = False)],axis = 1, inplace = True)\n",
    "gdf[gdf['IoU']>0].to_csv('FinalMatches\\\\Alborean\\\\CSK-SEN\\\\Spatio-Temporal_Alborean_CSK-SEN.csv')\n",
    "gdf.to_csv('FinalMatches\\\\Alborean\\\\CSK-SEN\\\\ALL_Alborean_CSK-SEN.csv')\n",
    "# gdf[gdf['IoU']>0]\n",
    "# gdf\n",
    "# PlotProducts( gdf, 288)\n",
    "for id in range(len(df)):\n",
    "     mappa = PlotProducts( gdf, id)\n",
    "     if gdf.iloc[id].IoU> 0:\n",
    "          cond = 'matched'     \n",
    "     else:\n",
    "          cond ='sparse'\n",
    "\n",
    "\n",
    "     mappa.save(f'FinalMatches\\\\Alborean\\\\CSK-SEN\\\\id_{id}__{cond}.html')"
   ]
  },
  {
   "cell_type": "markdown",
   "metadata": {},
   "source": [
    "## Plot with AOI"
   ]
  },
  {
   "cell_type": "code",
   "execution_count": 2,
   "metadata": {},
   "outputs": [],
   "source": [
    "df = pd.read_csv('Coppie\\Alborean_CSK_SEN_15min.csv')\n",
    "csk, sen = df['CSK'], df['SEN'] \n",
    "\n",
    "SRC_ALB_CSK = pd.read_excel('SRC\\\\Alborean\\\\Alborean_CSK.xlsx', engine='openpyxl')\n",
    "SRC_ALB_SEN = pd.read_csv('SRC\\\\Alborean\\\\Alborean_Sentinel.csv')\n",
    "\n",
    "IoUs, multi_polygons = [], []\n",
    "for i in range(len(df)):\n",
    "     poly1 = GetSen_Poly(sen[i], SRC_ALB_SEN) # Sentinel-1\n",
    "     poly2 = GetCSK_Poly(csk[i], SRC_ALB_CSK) # Cosmo-Skymed\n",
    "     IoUs.append(IoU(poly1, poly2))\n",
    "     multi_polygons.append(MultiPolygon([poly1,poly2])) # get centroid with P.centroid (P=polygon)\n",
    "\n",
    "df.insert(3, \"IoU\", IoUs, True)\n",
    "gdf = gpd.GeoDataFrame(df, geometry=multi_polygons)\n",
    "gdf.drop(gdf.columns[gdf.columns.str.contains('unnamed',case = False)],axis = 1, inplace = True)\n",
    "# gdf[gdf['IoU']>0].to_csv('FinalMatches\\\\Adriatico\\\\Spatio-Temporal_Adriatic_CSK-SEN.csv')\n",
    "# gdf.to_csv('FinalMatches\\\\Adriatico\\\\ALL_Adriatic_CSK-SEN.csv')\n",
    "\n",
    "kml = get_poly_from_kml(path=\"AOI\\\\gibraltar.kml\")\n",
    "\n",
    "for id in range(len(df)):\n",
    "     mappa = PlotProducts_AOI( gdf, id, aoi=kml)\n",
    "     if gdf.iloc[id].IoU> 0:\n",
    "          cond = 'matched'     \n",
    "     else:\n",
    "          cond ='sparse'\n",
    "\n",
    "\n",
    "     mappa.save(f'FinalMatches\\\\Alborean\\\\CSK-SEN-AOI\\\\id_{id}__{cond}.html')"
   ]
  },
  {
   "cell_type": "markdown",
   "metadata": {},
   "source": [
    "# EGADI CSK-SEN"
   ]
  },
  {
   "cell_type": "markdown",
   "metadata": {},
   "source": [
    "## Plot without AOI"
   ]
  },
  {
   "cell_type": "code",
   "execution_count": null,
   "metadata": {},
   "outputs": [],
   "source": [
    "df = pd.read_csv('Coppie\\\\Egadi_CSK_SEN_15min.csv')\n",
    "csk, sen = df['CSK'], df['SEN'] \n",
    "\n",
    "SRC_EGA_CSK = pd.read_excel('SRC\\\\Egadi\\\\Egadi_CSK.xlsx', engine='openpyxl')\n",
    "SRC_EGA_SEN = pd.read_csv('SRC\\\\Egadi\\\\Egadi_Sentinel_csv.csv')\n",
    "\n",
    "IoUs, multi_polygons = [], []\n",
    "for i in range(len(df)):\n",
    "     poly1 = GetSen_Poly(sen[i], SRC_EGA_SEN) # Sentinel-1\n",
    "     poly2 = GetCSK_Poly(csk[i], SRC_EGA_CSK) # Cosmo-Skymed\n",
    "     IoUs.append(IoU(poly1, poly2))\n",
    "     multi_polygons.append(MultiPolygon([poly1,poly2])) # get centroid with P.centroid (P=polygon)\n",
    "\n",
    "df.insert(3, \"IoU\", IoUs, True)\n",
    "gdf = gpd.GeoDataFrame(df, geometry=multi_polygons)\n",
    "gdf.drop(gdf.columns[gdf.columns.str.contains('unnamed',case = False)],axis = 1, inplace = True)\n",
    "gdf[gdf['IoU']>0].to_csv('FinalMatches\\\\Egadi\\\\CSK-SEN\\\\Spatio-Temporal_Alborean_CSK-SEN.csv')\n",
    "gdf.to_csv('FinalMatches\\\\Egadi\\\\CSK-SEN\\\\ALL_Egadi_CSK-SEN.csv')\n",
    "# gdf[gdf['IoU']>0]\n",
    "# gdf\n",
    "# PlotProducts( gdf, 288)\n",
    "for id in range(len(df)):\n",
    "     mappa = PlotProducts( gdf, id)\n",
    "     if gdf.iloc[id].IoU> 0:\n",
    "          cond = 'matched'     \n",
    "     else:\n",
    "          cond ='sparse'\n",
    "\n",
    "\n",
    "     mappa.save(f'FinalMatches\\\\Egadi\\\\CSK-SEN\\\\id_{id}__{cond}.html')"
   ]
  },
  {
   "cell_type": "markdown",
   "metadata": {},
   "source": [
    "## Plot with AOI"
   ]
  },
  {
   "cell_type": "code",
   "execution_count": 3,
   "metadata": {},
   "outputs": [],
   "source": [
    "df = pd.read_csv('Coppie\\\\Egadi_CSK_SEN_15min.csv')\n",
    "csk, sen = df['CSK'], df['SEN'] \n",
    "\n",
    "SRC_EGA_CSK = pd.read_excel('SRC\\\\Egadi\\\\Egadi_CSK.xlsx', engine='openpyxl')\n",
    "SRC_EGA_SEN = pd.read_csv('SRC\\\\Egadi\\\\Egadi_Sentinel_csv.csv')\n",
    "\n",
    "IoUs, multi_polygons = [], []\n",
    "for i in range(len(df)):\n",
    "     poly1 = GetSen_Poly(sen[i], SRC_EGA_SEN) # Sentinel-1\n",
    "     poly2 = GetCSK_Poly(csk[i], SRC_EGA_CSK) # Cosmo-Skymed\n",
    "     IoUs.append(IoU(poly1, poly2))\n",
    "     multi_polygons.append(MultiPolygon([poly1,poly2])) # get centroid with P.centroid (P=polygon)\n",
    "\n",
    "df.insert(3, \"IoU\", IoUs, True)\n",
    "gdf = gpd.GeoDataFrame(df, geometry=multi_polygons)\n",
    "gdf.drop(gdf.columns[gdf.columns.str.contains('unnamed',case = False)],axis = 1, inplace = True)\n",
    "# gdf[gdf['IoU']>0].to_csv('FinalMatches\\\\Adriatico\\\\Spatio-Temporal_Adriatic_CSK-SEN.csv')\n",
    "# gdf.to_csv('FinalMatches\\\\Adriatico\\\\ALL_Adriatic_CSK-SEN.csv')\n",
    "\n",
    "kml = get_poly_from_kml(path=\"AOI\\\\egadi.kml\")\n",
    "\n",
    "for id in range(len(df)):\n",
    "     mappa = PlotProducts_AOI( gdf, id, aoi=kml)\n",
    "     if gdf.iloc[id].IoU> 0:\n",
    "          cond = 'matched'     \n",
    "     else:\n",
    "          cond ='sparse'\n",
    "\n",
    "\n",
    "     mappa.save(f'FinalMatches\\\\Egadi\\\\CSK-SEN-AOI\\\\id_{id}__{cond}.html')"
   ]
  },
  {
   "cell_type": "markdown",
   "metadata": {},
   "source": [
    "# SARDEGNA CSK-SEN"
   ]
  },
  {
   "cell_type": "markdown",
   "metadata": {},
   "source": [
    "## Plot without AOI"
   ]
  },
  {
   "cell_type": "code",
   "execution_count": null,
   "metadata": {},
   "outputs": [],
   "source": [
    "df = pd.read_csv('Coppie\\\\Sardegna_CSK_SEN_15min.csv')\n",
    "csk, sen = df['CSK'], df['SEN'] \n",
    "\n",
    "SRC_SRD_CSK = pd.read_excel('SRC\\\\Sardegna\\\\Sardegna_CSK.xlsx', engine='openpyxl')\n",
    "SRC_SRD_SEN = pd.read_csv('SRC\\\\Sardegna\\\\Sardegna_Sentinel_csv.csv')\n",
    "\n",
    "IoUs, multi_polygons = [], []\n",
    "for i in range(len(df)):\n",
    "     poly1 = GetSen_Poly(sen[i], SRC_SRD_SEN) # Sentinel-1\n",
    "     poly2 = GetCSK_Poly(csk[i], SRC_SRD_CSK) # Cosmo-Skymed\n",
    "     IoUs.append(IoU(poly1, poly2))\n",
    "     multi_polygons.append(MultiPolygon([poly1,poly2])) # get centroid with P.centroid (P=polygon)\n",
    "\n",
    "df.insert(3, \"IoU\", IoUs, True)\n",
    "gdf = gpd.GeoDataFrame(df, geometry=multi_polygons)\n",
    "gdf.drop(gdf.columns[gdf.columns.str.contains('unnamed',case = False)],axis = 1, inplace = True)\n",
    "gdf[gdf['IoU']>0].to_csv('FinalMatches\\\\Sardegna\\\\CSK-SEN\\\\Spatio-Temporal_Alborean_CSK-SEN.csv')\n",
    "gdf.to_csv('FinalMatches\\\\Sardegna\\\\CSK-SEN\\\\ALL_Sardegna_CSK-SEN.csv')\n",
    "# gdf[gdf['IoU']>0]\n",
    "# gdf\n",
    "# PlotProducts( gdf, 288)\n",
    "for id in range(len(df)):\n",
    "     mappa = PlotProducts( gdf, id)\n",
    "     if gdf.iloc[id].IoU> 0:\n",
    "          cond = 'matched'     \n",
    "     else:\n",
    "          cond ='sparse'\n",
    "\n",
    "\n",
    "     mappa.save(f'FinalMatches\\\\Sardegna\\\\CSK-SEN\\\\id_{id}__{cond}.html')"
   ]
  },
  {
   "cell_type": "markdown",
   "metadata": {},
   "source": [
    "## Plot with AOI"
   ]
  },
  {
   "cell_type": "code",
   "execution_count": null,
   "metadata": {},
   "outputs": [],
   "source": [
    "df = pd.read_csv('Coppie\\\\Sardegna_CSK_SEN_15min.csv')\n",
    "csk, sen = df['CSK'], df['SEN'] \n",
    "\n",
    "SRC_SRD_CSK = pd.read_excel('SRC\\\\Sardegna\\\\Sardegna_CSK.xlsx', engine='openpyxl')\n",
    "SRC_SRD_SEN = pd.read_csv('SRC\\\\Sardegna\\\\Sardegna_Sentinel_csv.csv')\n",
    "\n",
    "IoUs, multi_polygons = [], []\n",
    "for i in range(len(df)):\n",
    "     poly1 = GetSen_Poly(sen[i], SRC_SRD_SEN) # Sentinel-1\n",
    "     poly2 = GetCSK_Poly(csk[i], SRC_SRD_CSK) # Cosmo-Skymed\n",
    "     IoUs.append(IoU(poly1, poly2))\n",
    "     multi_polygons.append(MultiPolygon([poly1,poly2])) # get centroid with P.centroid (P=polygon)\n",
    "\n",
    "df.insert(3, \"IoU\", IoUs, True)\n",
    "gdf = gpd.GeoDataFrame(df, geometry=multi_polygons)\n",
    "gdf.drop(gdf.columns[gdf.columns.str.contains('unnamed',case = False)],axis = 1, inplace = True)\n",
    "# gdf[gdf['IoU']>0].to_csv('FinalMatches\\\\Adriatico\\\\Spatio-Temporal_Adriatic_CSK-SEN.csv')\n",
    "# gdf.to_csv('FinalMatches\\\\Adriatico\\\\ALL_Adriatic_CSK-SEN.csv')\n",
    "\n",
    "kml = get_poly_from_kml(path=\"AOI\\\\sardegna.kml\")\n",
    "\n",
    "for id in range(len(df)):\n",
    "     mappa = PlotProducts_AOI( gdf, id, aoi=kml)\n",
    "     if gdf.iloc[id].IoU> 0:\n",
    "          cond = 'matched'     \n",
    "     else:\n",
    "          cond ='sparse'\n",
    "\n",
    "\n",
    "     mappa.save(f'FinalMatches\\\\Sardegna\\\\CSK-SEN-AOI\\\\id_{id}__{cond}.html')"
   ]
  }
 ],
 "metadata": {
  "interpreter": {
   "hash": "4f68396e49950b2d12b3e0c1832b02cc7cd4df2ab7a1b3d401c471a833d3bd0f"
  },
  "kernelspec": {
   "display_name": "Python 3.7.1 64-bit ('py37': conda)",
   "name": "python3"
  },
  "language_info": {
   "codemirror_mode": {
    "name": "ipython",
    "version": 3
   },
   "file_extension": ".py",
   "mimetype": "text/x-python",
   "name": "python",
   "nbconvert_exporter": "python",
   "pygments_lexer": "ipython3",
   "version": "3.7.1"
  },
  "orig_nbformat": 4
 },
 "nbformat": 4,
 "nbformat_minor": 2
}
