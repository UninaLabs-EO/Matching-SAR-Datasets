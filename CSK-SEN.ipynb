{
 "cells": [
  {
   "cell_type": "code",
   "execution_count": 1,
   "source": [
    "import pandas as pd\r\n",
    "import numpy as np\r\n",
    "import geopandas as gpd\r\n",
    "from shapely.geometry import Polygon, MultiPolygon\r\n",
    "from shapely import wkt\r\n",
    "import folium\r\n",
    "from drawer import *\r\n",
    "# from shapely.ops import unary_union # unire poligons"
   ],
   "outputs": [],
   "metadata": {}
  },
  {
   "cell_type": "markdown",
   "source": [
    "# ADRIATICO SEN-CSK\r\n"
   ],
   "metadata": {}
  },
  {
   "cell_type": "code",
   "execution_count": 3,
   "source": [
    "df = pd.read_csv('Coppie\\\\Adriatico_CSK_SEN_15min.csv')\r\n",
    "csk, sen = df['CSK'], df['SEN'] \r\n",
    "\r\n",
    "SRC_ADR_CSK = pd.read_excel('SRC\\Adriatico\\SRC\\Adriatico_CSK.xlsx', engine='openpyxl')\r\n",
    "SRC_ADR_SEN = pd.read_csv('SRC\\Adriatico\\Sentinel_CSV.csv')\r\n",
    "\r\n",
    "IoUs, multi_polygons = [], []\r\n",
    "for i in range(len(df)):\r\n",
    "     poly1 = GetSen_Poly(sen[i], SRC_ADR_SEN) # Sentinel-1\r\n",
    "     poly2 = GetCSK_Poly(csk[i], SRC_ADR_CSK) # Cosmo-Skymed\r\n",
    "     IoUs.append(IoU(poly1, poly2))\r\n",
    "     multi_polygons.append(MultiPolygon([poly1,poly2])) # get centroid with P.centroid (P=polygon)\r\n",
    "\r\n",
    "df.insert(3, \"IoU\", IoUs, True)\r\n",
    "gdf = gpd.GeoDataFrame(df, geometry=multi_polygons)\r\n",
    "gdf.drop(gdf.columns[gdf.columns.str.contains('unnamed',case = False)],axis = 1, inplace = True)\r\n",
    "gdf[gdf['IoU']>0].to_csv('FinalMatches\\\\Adriatico\\\\Spatio-Temporal_Adriatic_CSK-SEN.csv')\r\n",
    "gdf.to_csv('FinalMatches\\\\Adriatico\\\\ALL_Adriatic_CSK-SEN.csv')\r\n",
    "# gdf[gdf['IoU']>0]\r\n",
    "# gdf\r\n",
    "# PlotProducts( gdf, 288)\r\n",
    "for id in range(len(df)):\r\n",
    "     mappa = PlotProducts( gdf, id)\r\n",
    "     if gdf.iloc[id].IoU> 0:\r\n",
    "          cond = 'matched'     \r\n",
    "     else:\r\n",
    "          cond ='sparse'\r\n",
    "\r\n",
    "\r\n",
    "     mappa.save(f'FinalMatches\\\\Adriatico\\\\id_{id}__{cond}.html')"
   ],
   "outputs": [],
   "metadata": {}
  },
  {
   "cell_type": "markdown",
   "source": [
    "# ALBOREAN SEN-CSK"
   ],
   "metadata": {}
  },
  {
   "cell_type": "code",
   "execution_count": 9,
   "source": [
    "df = pd.read_csv('Coppie\\Alborean_CSK_SEN_15min.csv')\r\n",
    "csk, sen = df['CSK'], df['SEN'] \r\n",
    "\r\n",
    "SRC_ALB_CSK = pd.read_excel('SRC\\\\Alborean\\\\Alborean_CSK.xlsx', engine='openpyxl')\r\n",
    "SRC_ALB_SEN = pd.read_csv('SRC\\\\Alborean\\\\Alborean_Sentinel.csv')\r\n",
    "\r\n",
    "IoUs, multi_polygons = [], []\r\n",
    "for i in range(len(df)):\r\n",
    "     poly1 = GetSen_Poly(sen[i], SRC_ALB_SEN) # Sentinel-1\r\n",
    "     poly2 = GetCSK_Poly(csk[i], SRC_ALB_CSK) # Cosmo-Skymed\r\n",
    "     IoUs.append(IoU(poly1, poly2))\r\n",
    "     multi_polygons.append(MultiPolygon([poly1,poly2])) # get centroid with P.centroid (P=polygon)\r\n",
    "\r\n",
    "df.insert(3, \"IoU\", IoUs, True)\r\n",
    "gdf = gpd.GeoDataFrame(df, geometry=multi_polygons)\r\n",
    "gdf.drop(gdf.columns[gdf.columns.str.contains('unnamed',case = False)],axis = 1, inplace = True)\r\n",
    "gdf[gdf['IoU']>0].to_csv('FinalMatches\\\\Alborean\\\\CSK-SEN\\\\Spatio-Temporal_Alborean_CSK-SEN.csv')\r\n",
    "gdf.to_csv('FinalMatches\\\\Alborean\\\\CSK-SEN\\\\ALL_Alborean_CSK-SEN.csv')\r\n",
    "# gdf[gdf['IoU']>0]\r\n",
    "# gdf\r\n",
    "# PlotProducts( gdf, 288)\r\n",
    "for id in range(len(df)):\r\n",
    "     mappa = PlotProducts( gdf, id)\r\n",
    "     if gdf.iloc[id].IoU> 0:\r\n",
    "          cond = 'matched'     \r\n",
    "     else:\r\n",
    "          cond ='sparse'\r\n",
    "\r\n",
    "\r\n",
    "     mappa.save(f'FinalMatches\\\\Alborean\\\\CSK-SEN\\\\id_{id}__{cond}.html')"
   ],
   "outputs": [],
   "metadata": {}
  },
  {
   "cell_type": "markdown",
   "source": [
    "# EGADI CSK-SEN"
   ],
   "metadata": {}
  },
  {
   "cell_type": "code",
   "execution_count": 10,
   "source": [
    "df = pd.read_csv('Coppie\\\\Egadi_CSK_SEN_15min.csv')\r\n",
    "csk, sen = df['CSK'], df['SEN'] \r\n",
    "\r\n",
    "SRC_EGA_CSK = pd.read_excel('SRC\\\\Egadi\\\\Egadi_CSK.xlsx', engine='openpyxl')\r\n",
    "SRC_EGA_SEN = pd.read_csv('SRC\\\\Egadi\\\\Egadi_Sentinel_csv.csv')\r\n",
    "\r\n",
    "IoUs, multi_polygons = [], []\r\n",
    "for i in range(len(df)):\r\n",
    "     poly1 = GetSen_Poly(sen[i], SRC_EGA_SEN) # Sentinel-1\r\n",
    "     poly2 = GetCSK_Poly(csk[i], SRC_EGA_CSK) # Cosmo-Skymed\r\n",
    "     IoUs.append(IoU(poly1, poly2))\r\n",
    "     multi_polygons.append(MultiPolygon([poly1,poly2])) # get centroid with P.centroid (P=polygon)\r\n",
    "\r\n",
    "df.insert(3, \"IoU\", IoUs, True)\r\n",
    "gdf = gpd.GeoDataFrame(df, geometry=multi_polygons)\r\n",
    "gdf.drop(gdf.columns[gdf.columns.str.contains('unnamed',case = False)],axis = 1, inplace = True)\r\n",
    "gdf[gdf['IoU']>0].to_csv('FinalMatches\\\\Egadi\\\\CSK-SEN\\\\Spatio-Temporal_Alborean_CSK-SEN.csv')\r\n",
    "gdf.to_csv('FinalMatches\\\\Egadi\\\\CSK-SEN\\\\ALL_Egadi_CSK-SEN.csv')\r\n",
    "# gdf[gdf['IoU']>0]\r\n",
    "# gdf\r\n",
    "# PlotProducts( gdf, 288)\r\n",
    "for id in range(len(df)):\r\n",
    "     mappa = PlotProducts( gdf, id)\r\n",
    "     if gdf.iloc[id].IoU> 0:\r\n",
    "          cond = 'matched'     \r\n",
    "     else:\r\n",
    "          cond ='sparse'\r\n",
    "\r\n",
    "\r\n",
    "     mappa.save(f'FinalMatches\\\\Egadi\\\\CSK-SEN\\\\id_{id}__{cond}.html')"
   ],
   "outputs": [],
   "metadata": {}
  },
  {
   "cell_type": "markdown",
   "source": [
    "# SARDEGNA CSK-SEN"
   ],
   "metadata": {}
  },
  {
   "cell_type": "code",
   "execution_count": 12,
   "source": [
    "df = pd.read_csv('Coppie\\\\Sardegna_CSK_SEN_15min.csv')\r\n",
    "csk, sen = df['CSK'], df['SEN'] \r\n",
    "\r\n",
    "SRC_SRD_CSK = pd.read_excel('SRC\\\\Sardegna\\\\Sardegna_CSK.xlsx', engine='openpyxl')\r\n",
    "SRC_SRD_SEN = pd.read_csv('SRC\\\\Sardegna\\\\Sardegna_Sentinel_csv.csv')\r\n",
    "\r\n",
    "IoUs, multi_polygons = [], []\r\n",
    "for i in range(len(df)):\r\n",
    "     poly1 = GetSen_Poly(sen[i], SRC_SRD_SEN) # Sentinel-1\r\n",
    "     poly2 = GetCSK_Poly(csk[i], SRC_SRD_CSK) # Cosmo-Skymed\r\n",
    "     IoUs.append(IoU(poly1, poly2))\r\n",
    "     multi_polygons.append(MultiPolygon([poly1,poly2])) # get centroid with P.centroid (P=polygon)\r\n",
    "\r\n",
    "df.insert(3, \"IoU\", IoUs, True)\r\n",
    "gdf = gpd.GeoDataFrame(df, geometry=multi_polygons)\r\n",
    "gdf.drop(gdf.columns[gdf.columns.str.contains('unnamed',case = False)],axis = 1, inplace = True)\r\n",
    "gdf[gdf['IoU']>0].to_csv('FinalMatches\\\\Sardegna\\\\CSK-SEN\\\\Spatio-Temporal_Alborean_CSK-SEN.csv')\r\n",
    "gdf.to_csv('FinalMatches\\\\Sardegna\\\\CSK-SEN\\\\ALL_Sardegna_CSK-SEN.csv')\r\n",
    "# gdf[gdf['IoU']>0]\r\n",
    "# gdf\r\n",
    "# PlotProducts( gdf, 288)\r\n",
    "for id in range(len(df)):\r\n",
    "     mappa = PlotProducts( gdf, id)\r\n",
    "     if gdf.iloc[id].IoU> 0:\r\n",
    "          cond = 'matched'     \r\n",
    "     else:\r\n",
    "          cond ='sparse'\r\n",
    "\r\n",
    "\r\n",
    "     mappa.save(f'FinalMatches\\\\Sardegna\\\\CSK-SEN\\\\id_{id}__{cond}.html')"
   ],
   "outputs": [],
   "metadata": {}
  }
 ],
 "metadata": {
  "kernelspec": {
   "name": "python3",
   "display_name": "Python 3.6.12 64-bit ('py36': conda)"
  },
  "language_info": {
   "version": "3.6.12",
   "mimetype": "text/x-python",
   "name": "python",
   "file_extension": ".py",
   "nbconvert_exporter": "python",
   "codemirror_mode": {
    "name": "ipython",
    "version": 3
   },
   "pygments_lexer": "ipython3"
  },
  "orig_nbformat": 4,
  "interpreter": {
   "hash": "2e260ef4e85a5b747c03e666fe86b1a88dfc52fa3738cb748f4838fec96f4925"
  }
 },
 "nbformat": 4,
 "nbformat_minor": 2
}