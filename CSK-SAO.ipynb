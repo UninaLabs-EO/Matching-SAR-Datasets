{
 "cells": [
  {
   "cell_type": "code",
   "execution_count": 1,
   "source": [
    "import pandas as pd\r\n",
    "import numpy as np\r\n",
    "import geopandas as gpd\r\n",
    "from shapely.geometry import Polygon, MultiPolygon\r\n",
    "from shapely import wkt\r\n",
    "import folium\r\n",
    "from utils import *\r\n",
    "# from shapely.ops import unary_union # unire poligons"
   ],
   "outputs": [],
   "metadata": {}
  },
  {
   "cell_type": "markdown",
   "source": [
    "# ADRIATICO CSK-SAO\r\n"
   ],
   "metadata": {}
  },
  {
   "cell_type": "code",
   "execution_count": 2,
   "source": [
    "df = pd.read_csv('Coppie\\Adriatico_CSK_SAO_15min.csv')\r\n",
    "csk, sao = df['CSK'], df['SAO'] \r\n",
    "\r\n",
    "SRC_ADR_CSK = pd.read_excel('SRC\\\\Adriatico\\\\SRC\\\\Adriatico_CSK.xlsx', engine='openpyxl')\r\n",
    "SRC_ADR_SAO = pd.read_excel('SRC\\\\Adriatico\\\\SRC\\\\Adriatico_SAOCOM.xlsx', engine='openpyxl')\r\n",
    "\r\n",
    "IoUs, multi_polygons = [], []\r\n",
    "for i in range(len(df)):\r\n",
    "     poly1 = GetSAO_Poly(sao[i], SRC_ADR_SAO) # SAOCOM\r\n",
    "     poly2 = GetCSK_Poly(csk[i], SRC_ADR_CSK) # Cosmo-Skymed\r\n",
    "     IoUs.append(IoU(poly1, poly2))\r\n",
    "     multi_polygons.append(MultiPolygon([poly1,poly2])) # get centroid with P.centroid (P=polygon)\r\n",
    "\r\n",
    "df.insert(3, \"IoU\", IoUs, True)\r\n",
    "gdf = gpd.GeoDataFrame(df, geometry=multi_polygons)\r\n",
    "gdf.drop(gdf.columns[gdf.columns.str.contains('unnamed',case = False)],axis = 1, inplace = True)\r\n",
    "gdf[gdf['IoU']>0].to_csv('FinalMatches\\\\Adriatico\\\\CSK-SAO\\\\Spatio-Temporal_Adriatic_CSK-SAO.csv')\r\n",
    "gdf.to_csv('FinalMatches\\\\Adriatico\\\\CSK-SAO\\\\ALL_Adriatic_CSK-SAO.csv')\r\n",
    "# gdf[gdf['IoU']>0]\r\n",
    "# gdf\r\n",
    "# PlotProducts( gdf, 288)\r\n",
    "for id in range(len(df)):\r\n",
    "     mappa = PlotProducts2( gdf, id)\r\n",
    "     if gdf.iloc[id].IoU> 0:\r\n",
    "          cond = 'matched'     \r\n",
    "     else:\r\n",
    "          cond ='sparse'\r\n",
    "\r\n",
    "\r\n",
    "     mappa.save(f'FinalMatches\\\\Adriatico\\\\CSK-SAO\\\\id_{id}__{cond}.html')"
   ],
   "outputs": [],
   "metadata": {}
  },
  {
   "cell_type": "markdown",
   "source": [
    "# ALBOREAN CSK-SAO"
   ],
   "metadata": {}
  },
  {
   "cell_type": "code",
   "execution_count": 5,
   "source": [
    "df = pd.read_csv('Coppie\\Alborean_CSK_SAO_15min.csv')\r\n",
    "csk, sao = df['CSK'], df['SAO'] \r\n",
    "\r\n",
    "SRC_ADR_CSK = pd.read_excel('SRC\\\\Alborean\\\\Alborean_CSK.xlsx', engine='openpyxl')\r\n",
    "SRC_ADR_SAO = pd.read_excel('SRC\\\\Alborean\\\\Alborean_SAOCOM.xlsx', engine='openpyxl')\r\n",
    "\r\n",
    "IoUs, multi_polygons = [], []\r\n",
    "for i in range(len(df)):\r\n",
    "     poly1 = GetSAO_Poly(sao[i], SRC_ADR_SAO) # SAOCOM\r\n",
    "     poly2 = GetCSK_Poly(csk[i], SRC_ADR_CSK) # Cosmo-Skymed\r\n",
    "     IoUs.append(IoU(poly1, poly2))\r\n",
    "     multi_polygons.append(MultiPolygon([poly1,poly2])) # get centroid with P.centroid (P=polygon)\r\n",
    "\r\n",
    "df.insert(3, \"IoU\", IoUs, True)\r\n",
    "gdf = gpd.GeoDataFrame(df, geometry=multi_polygons)\r\n",
    "gdf.drop(gdf.columns[gdf.columns.str.contains('unnamed',case = False)],axis = 1, inplace = True)\r\n",
    "gdf[gdf['IoU']>0].to_csv('FinalMatches\\\\Alborean\\\\CSK-SAO\\\\Spatio-Temporal_Alborean_CSK-SAO.csv')\r\n",
    "gdf.to_csv('FinalMatches\\\\Alborean\\\\CSK-SAO\\\\ALL_Alborean_CSK-SAO.csv')\r\n",
    "# gdf[gdf['IoU']>0]\r\n",
    "# gdf\r\n",
    "# PlotProducts( gdf, 288)\r\n",
    "for id in range(len(df)):\r\n",
    "     mappa = PlotProducts2( gdf, id)\r\n",
    "     if gdf.iloc[id].IoU> 0:\r\n",
    "          cond = 'matched'     \r\n",
    "     else:\r\n",
    "          cond ='sparse'\r\n",
    "\r\n",
    "\r\n",
    "     mappa.save(f'FinalMatches\\\\Alborean\\\\CSK-SAO\\\\id_{id}__{cond}.html')"
   ],
   "outputs": [],
   "metadata": {}
  },
  {
   "cell_type": "markdown",
   "source": [
    "# SARDEGNA CSK-SAO"
   ],
   "metadata": {}
  },
  {
   "cell_type": "code",
   "execution_count": 6,
   "source": [
    "df = pd.read_csv('Coppie\\\\Sardegna_CSK_SAO_15min.csv')\r\n",
    "csk, sao = df['CSK'], df['SAO'] \r\n",
    "\r\n",
    "SRC_ADR_CSK = pd.read_excel('SRC\\\\Sardegna\\\\Sardegna_CSK.xlsx', engine='openpyxl')\r\n",
    "SRC_ADR_SAO = pd.read_excel('SRC\\\\Sardegna\\\\Sardegna_SAOCOM.xlsx', engine='openpyxl')\r\n",
    "\r\n",
    "IoUs, multi_polygons = [], []\r\n",
    "for i in range(len(df)):\r\n",
    "     poly1 = GetSAO_Poly(sao[i], SRC_ADR_SAO) # SAOCOM\r\n",
    "     poly2 = GetCSK_Poly(csk[i], SRC_ADR_CSK) # Cosmo-Skymed\r\n",
    "     IoUs.append(IoU(poly1, poly2))\r\n",
    "     multi_polygons.append(MultiPolygon([poly1,poly2])) # get centroid with P.centroid (P=polygon)\r\n",
    "\r\n",
    "df.insert(3, \"IoU\", IoUs, True)\r\n",
    "gdf = gpd.GeoDataFrame(df, geometry=multi_polygons)\r\n",
    "gdf.drop(gdf.columns[gdf.columns.str.contains('unnamed',case = False)],axis = 1, inplace = True)\r\n",
    "gdf[gdf['IoU']>0].to_csv('FinalMatches\\\\Sardegna\\\\CSK-SAO\\\\Spatio-Temporal_Sardegna_CSK-SAO.csv')\r\n",
    "gdf.to_csv('FinalMatches\\\\Sardegna\\\\CSK-SAO\\\\ALL_Sardegna_CSK-SAO.csv')\r\n",
    "# gdf[gdf['IoU']>0]\r\n",
    "# gdf\r\n",
    "# PlotProducts( gdf, 288)\r\n",
    "for id in range(len(df)):\r\n",
    "     mappa = PlotProducts2( gdf, id)\r\n",
    "     if gdf.iloc[id].IoU> 0:\r\n",
    "          cond = 'matched'     \r\n",
    "     else:\r\n",
    "          cond ='sparse'\r\n",
    "\r\n",
    "\r\n",
    "     mappa.save(f'FinalMatches\\\\Sardegna\\\\CSK-SAO\\\\id_{id}__{cond}.html')"
   ],
   "outputs": [],
   "metadata": {}
  }
 ],
 "metadata": {
  "kernelspec": {
   "name": "python3",
   "display_name": "Python 3.6.12 64-bit ('py36': conda)"
  },
  "language_info": {
   "version": "3.6.12",
   "mimetype": "text/x-python",
   "name": "python",
   "file_extension": ".py",
   "nbconvert_exporter": "python",
   "codemirror_mode": {
    "name": "ipython",
    "version": 3
   },
   "pygments_lexer": "ipython3"
  },
  "orig_nbformat": 4,
  "interpreter": {
   "hash": "2e260ef4e85a5b747c03e666fe86b1a88dfc52fa3738cb748f4838fec96f4925"
  }
 },
 "nbformat": 4,
 "nbformat_minor": 2
}