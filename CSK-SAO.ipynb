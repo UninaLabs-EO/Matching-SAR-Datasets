{
 "cells": [
  {
   "cell_type": "code",
   "execution_count": 1,
   "metadata": {},
   "outputs": [],
   "source": [
    "import pandas as pd\n",
    "import numpy as np\n",
    "import geopandas as gpd\n",
    "from shapely.geometry import Polygon, MultiPolygon\n",
    "from shapely import wkt\n",
    "import folium\n",
    "from drawer import *\n",
    "# from shapely.ops import unary_union # unire poligons\n",
    "from IPython import get_ipython\n",
    "ipython = get_ipython()"
   ]
  },
  {
   "cell_type": "code",
   "execution_count": 3,
   "metadata": {},
   "outputs": [],
   "source": [
    "# %cd Matching-SAR-Datasets"
   ]
  },
  {
   "cell_type": "markdown",
   "metadata": {},
   "source": [
    "# ADRIATICO CSK-SAO\n"
   ]
  },
  {
   "cell_type": "markdown",
   "metadata": {},
   "source": [
    "## Plot without AOI"
   ]
  },
  {
   "cell_type": "code",
   "execution_count": null,
   "metadata": {},
   "outputs": [],
   "source": [
    "df = pd.read_csv('Coppie\\Adriatico_CSK_SAO_15min.csv')\n",
    "csk, sao = df['CSK'], df['SAO'] \n",
    "\n",
    "SRC_ADR_CSK = pd.read_excel('SRC\\\\Adriatico\\\\SRC\\\\Adriatico_CSK.xlsx', engine='openpyxl')\n",
    "SRC_ADR_SAO = pd.read_excel('SRC\\\\Adriatico\\\\SRC\\\\Adriatico_SAOCOM.xlsx', engine='openpyxl')\n",
    "\n",
    "IoUs, multi_polygons = [], []\n",
    "for i in range(len(df)):\n",
    "     poly1 = GetSAO_Poly(sao[i], SRC_ADR_SAO) # SAOCOM\n",
    "     poly2 = GetCSK_Poly(csk[i], SRC_ADR_CSK) # Cosmo-Skymed\n",
    "     IoUs.append(IoU(poly1, poly2))\n",
    "     multi_polygons.append(MultiPolygon([poly1,poly2])) # get centroid with P.centroid (P=polygon)\n",
    "\n",
    "df.insert(3, \"IoU\", IoUs, True)\n",
    "gdf = gpd.GeoDataFrame(df, geometry=multi_polygons)\n",
    "gdf.drop(gdf.columns[gdf.columns.str.contains('unnamed',case = False)],axis = 1, inplace = True)\n",
    "gdf[gdf['IoU']>0].to_csv('FinalMatches\\\\Adriatico\\\\CSK-SAO\\\\Spatio-Temporal_Adriatic_CSK-SAO.csv')\n",
    "gdf.to_csv('FinalMatches\\\\Adriatico\\\\CSK-SAO\\\\ALL_Adriatic_CSK-SAO.csv')\n",
    "# gdf[gdf['IoU']>0]\n",
    "# gdf\n",
    "# PlotProducts( gdf, 288)\n",
    "for id in range(len(df)):\n",
    "     mappa = PlotProducts2( gdf, id)\n",
    "     if gdf.iloc[id].IoU> 0:\n",
    "          cond = 'matched'     \n",
    "     else:\n",
    "          cond ='sparse'\n",
    "\n",
    "\n",
    "     mappa.save(f'FinalMatches\\\\Adriatico\\\\CSK-SAO\\\\id_{id}__{cond}.html')"
   ]
  },
  {
   "cell_type": "markdown",
   "metadata": {},
   "source": [
    "## Plot with AOI"
   ]
  },
  {
   "cell_type": "code",
   "execution_count": null,
   "metadata": {},
   "outputs": [],
   "source": [
    "df = pd.read_csv('Coppie\\Adriatico_CSK_SAO_15min.csv')\n",
    "csk, sao = df['CSK'], df['SAO'] \n",
    "\n",
    "SRC_ADR_CSK = pd.read_excel('SRC\\\\Adriatico\\\\SRC\\\\Adriatico_CSK.xlsx', engine='openpyxl')\n",
    "SRC_ADR_SAO = pd.read_excel('SRC\\\\Adriatico\\\\SRC\\\\Adriatico_SAOCOM.xlsx', engine='openpyxl')\n",
    "\n",
    "IoUs, multi_polygons = [], []\n",
    "for i in range(len(df)):\n",
    "     poly1 = GetSAO_Poly(sao[i], SRC_ADR_SAO) # SAOCOM\n",
    "     poly2 = GetCSK_Poly(csk[i], SRC_ADR_CSK) # Cosmo-Skymed\n",
    "     IoUs.append(IoU(poly1, poly2))\n",
    "     multi_polygons.append(MultiPolygon([poly1,poly2])) # get centroid with P.centroid (P=polygon)\n",
    "\n",
    "df.insert(3, \"IoU\", IoUs, True)\n",
    "gdf = gpd.GeoDataFrame(df, geometry=multi_polygons)\n",
    "gdf.drop(gdf.columns[gdf.columns.str.contains('unnamed',case = False)],axis = 1, inplace = True)\n",
    "# gdf[gdf['IoU']>0].to_csv('FinalMatches\\\\Adriatico\\\\CSK-SAO\\\\Spatio-Temporal_Adriatic_CSK-SAO.csv')\n",
    "# gdf.to_csv('FinalMatches\\\\Adriatico\\\\CSK-SAO\\\\ALL_Adriatic_CSK-SAO.csv')\n",
    "# gdf[gdf['IoU']>0]\n",
    "# gdf\n",
    "# PlotProducts( gdf, 288)\n",
    "\n",
    "kml = get_poly_from_kml(path=\"AOI\\\\roi-2021-05-12T14_11_52.461Z.kml\") # get AOI\n",
    "\n",
    "for id in range(len(df)):\n",
    "     mappa = PlotProducts2_AOI( gdf, id, aoi=kml)\n",
    "     if gdf.iloc[id].IoU> 0:\n",
    "          cond = 'matched'     \n",
    "     else:\n",
    "          cond ='sparse'\n",
    "\n",
    "\n",
    "     mappa.save(f'FinalMatches\\\\Adriatico\\\\CSK-SAO-AOI\\\\id_{id}__{cond}.html')"
   ]
  },
  {
   "cell_type": "markdown",
   "metadata": {},
   "source": [
    "# ALBOREAN CSK-SAO"
   ]
  },
  {
   "cell_type": "markdown",
   "metadata": {},
   "source": [
    "## Plot without AOI"
   ]
  },
  {
   "cell_type": "code",
   "execution_count": null,
   "metadata": {},
   "outputs": [],
   "source": [
    "df = pd.read_csv('Coppie\\Alborean_CSK_SAO_15min.csv')\n",
    "csk, sao = df['CSK'], df['SAO'] \n",
    "\n",
    "SRC_ADR_CSK = pd.read_excel('SRC\\\\Alborean\\\\Alborean_CSK.xlsx', engine='openpyxl')\n",
    "SRC_ADR_SAO = pd.read_excel('SRC\\\\Alborean\\\\Alborean_SAOCOM.xlsx', engine='openpyxl')\n",
    "\n",
    "IoUs, multi_polygons = [], []\n",
    "for i in range(len(df)):\n",
    "     poly1 = GetSAO_Poly(sao[i], SRC_ADR_SAO) # SAOCOM\n",
    "     poly2 = GetCSK_Poly(csk[i], SRC_ADR_CSK) # Cosmo-Skymed\n",
    "     IoUs.append(IoU(poly1, poly2))\n",
    "     multi_polygons.append(MultiPolygon([poly1,poly2])) # get centroid with P.centroid (P=polygon)\n",
    "\n",
    "df.insert(3, \"IoU\", IoUs, True)\n",
    "gdf = gpd.GeoDataFrame(df, geometry=multi_polygons)\n",
    "gdf.drop(gdf.columns[gdf.columns.str.contains('unnamed',case = False)],axis = 1, inplace = True)\n",
    "gdf[gdf['IoU']>0].to_csv('FinalMatches\\\\Alborean\\\\CSK-SAO\\\\Spatio-Temporal_Alborean_CSK-SAO.csv')\n",
    "gdf.to_csv('FinalMatches\\\\Alborean\\\\CSK-SAO\\\\ALL_Alborean_CSK-SAO.csv')\n",
    "# gdf[gdf['IoU']>0]\n",
    "# gdf\n",
    "# PlotProducts( gdf, 288)\n",
    "for id in range(len(df)):\n",
    "     mappa = PlotProducts2( gdf, id)\n",
    "     if gdf.iloc[id].IoU> 0:\n",
    "          cond = 'matched'     \n",
    "     else:\n",
    "          cond ='sparse'\n",
    "\n",
    "\n",
    "     mappa.save(f'FinalMatches\\\\Alborean\\\\CSK-SAO\\\\id_{id}__{cond}.html')"
   ]
  },
  {
   "cell_type": "markdown",
   "metadata": {},
   "source": [
    "## Plot with AOI"
   ]
  },
  {
   "cell_type": "code",
   "execution_count": 2,
   "metadata": {},
   "outputs": [],
   "source": [
    "df = pd.read_csv('Coppie\\Alborean_CSK_SAO_15min.csv')\n",
    "csk, sao = df['CSK'], df['SAO'] \n",
    "\n",
    "SRC_ADR_CSK = pd.read_excel('SRC\\\\Alborean\\\\Alborean_CSK.xlsx', engine='openpyxl')\n",
    "SRC_ADR_SAO = pd.read_excel('SRC\\\\Alborean\\\\Alborean_SAOCOM.xlsx', engine='openpyxl')\n",
    "\n",
    "IoUs, multi_polygons = [], []\n",
    "for i in range(len(df)):\n",
    "     poly1 = GetSAO_Poly(sao[i], SRC_ADR_SAO) # SAOCOM\n",
    "     poly2 = GetCSK_Poly(csk[i], SRC_ADR_CSK) # Cosmo-Skymed\n",
    "     IoUs.append(IoU(poly1, poly2))\n",
    "     multi_polygons.append(MultiPolygon([poly1,poly2])) # get centroid with P.centroid (P=polygon)\n",
    "\n",
    "df.insert(3, \"IoU\", IoUs, True)\n",
    "gdf = gpd.GeoDataFrame(df, geometry=multi_polygons)\n",
    "gdf.drop(gdf.columns[gdf.columns.str.contains('unnamed',case = False)],axis = 1, inplace = True)\n",
    "# gdf[gdf['IoU']>0].to_csv('FinalMatches\\\\Adriatico\\\\CSK-SAO\\\\Spatio-Temporal_Adriatic_CSK-SAO.csv')\n",
    "# gdf.to_csv('FinalMatches\\\\Adriatico\\\\CSK-SAO\\\\ALL_Adriatic_CSK-SAO.csv')\n",
    "# gdf[gdf['IoU']>0]\n",
    "# gdf\n",
    "# PlotProducts( gdf, 288)\n",
    "\n",
    "kml = get_poly_from_kml(path=\"AOI\\\\gibraltar.kml\") # get AOI\n",
    "\n",
    "for id in range(len(df)):\n",
    "     mappa = PlotProducts2_AOI( gdf, id, aoi=kml)\n",
    "     if gdf.iloc[id].IoU> 0:\n",
    "          cond = 'matched'     \n",
    "     else:\n",
    "          cond ='sparse'\n",
    "\n",
    "\n",
    "     mappa.save(f'FinalMatches\\\\Alborean\\\\CSK-SAO-AOI\\\\id_{id}__{cond}.html')"
   ]
  },
  {
   "cell_type": "markdown",
   "metadata": {},
   "source": [
    "# SARDEGNA CSK-SAO"
   ]
  },
  {
   "cell_type": "markdown",
   "metadata": {},
   "source": [
    "## Plot without AOI"
   ]
  },
  {
   "cell_type": "code",
   "execution_count": null,
   "metadata": {},
   "outputs": [],
   "source": [
    "df = pd.read_csv('Coppie\\\\Sardegna_CSK_SAO_15min.csv')\n",
    "csk, sao = df['CSK'], df['SAO'] \n",
    "\n",
    "SRC_ADR_CSK = pd.read_excel('SRC\\\\Sardegna\\\\Sardegna_CSK.xlsx', engine='openpyxl')\n",
    "SRC_ADR_SAO = pd.read_excel('SRC\\\\Sardegna\\\\Sardegna_SAOCOM.xlsx', engine='openpyxl')\n",
    "\n",
    "IoUs, multi_polygons = [], []\n",
    "for i in range(len(df)):\n",
    "     poly1 = GetSAO_Poly(sao[i], SRC_ADR_SAO) # SAOCOM\n",
    "     poly2 = GetCSK_Poly(csk[i], SRC_ADR_CSK) # Cosmo-Skymed\n",
    "     IoUs.append(IoU(poly1, poly2))\n",
    "     multi_polygons.append(MultiPolygon([poly1,poly2])) # get centroid with P.centroid (P=polygon)\n",
    "\n",
    "df.insert(3, \"IoU\", IoUs, True)\n",
    "gdf = gpd.GeoDataFrame(df, geometry=multi_polygons)\n",
    "gdf.drop(gdf.columns[gdf.columns.str.contains('unnamed',case = False)],axis = 1, inplace = True)\n",
    "gdf[gdf['IoU']>0].to_csv('FinalMatches\\\\Sardegna\\\\CSK-SAO\\\\Spatio-Temporal_Sardegna_CSK-SAO.csv')\n",
    "gdf.to_csv('FinalMatches\\\\Sardegna\\\\CSK-SAO\\\\ALL_Sardegna_CSK-SAO.csv')\n",
    "# gdf[gdf['IoU']>0]\n",
    "# gdf\n",
    "# PlotProducts( gdf, 288)\n",
    "for id in range(len(df)):\n",
    "     mappa = PlotProducts2( gdf, id)\n",
    "     if gdf.iloc[id].IoU> 0:\n",
    "          cond = 'matched'     \n",
    "     else:\n",
    "          cond ='sparse'\n",
    "\n",
    "\n",
    "     mappa.save(f'FinalMatches\\\\Sardegna\\\\CSK-SAO\\\\id_{id}__{cond}.html')"
   ]
  },
  {
   "cell_type": "markdown",
   "metadata": {},
   "source": [
    "## Plot with AOI"
   ]
  },
  {
   "cell_type": "code",
   "execution_count": null,
   "metadata": {},
   "outputs": [],
   "source": [
    "df = pd.read_csv('Coppie\\\\Sardegna_CSK_SAO_15min.csv')\n",
    "csk, sao = df['CSK'], df['SAO'] \n",
    "\n",
    "SRC_ADR_CSK = pd.read_excel('SRC\\\\Sardegna\\\\Sardegna_CSK.xlsx', engine='openpyxl')\n",
    "SRC_ADR_SAO = pd.read_excel('SRC\\\\Sardegna\\\\Sardegna_SAOCOM.xlsx', engine='openpyxl')\n",
    "\n",
    "IoUs, multi_polygons = [], []\n",
    "for i in range(len(df)):\n",
    "     poly1 = GetSAO_Poly(sao[i], SRC_ADR_SAO) # SAOCOM\n",
    "     poly2 = GetCSK_Poly(csk[i], SRC_ADR_CSK) # Cosmo-Skymed\n",
    "     IoUs.append(IoU(poly1, poly2))\n",
    "     multi_polygons.append(MultiPolygon([poly1,poly2])) # get centroid with P.centroid (P=polygon)\n",
    "\n",
    "df.insert(3, \"IoU\", IoUs, True)\n",
    "gdf = gpd.GeoDataFrame(df, geometry=multi_polygons)\n",
    "gdf.drop(gdf.columns[gdf.columns.str.contains('unnamed',case = False)],axis = 1, inplace = True)\n",
    "# gdf[gdf['IoU']>0].to_csv('FinalMatches\\\\Adriatico\\\\CSK-SAO\\\\Spatio-Temporal_Adriatic_CSK-SAO.csv')\n",
    "# gdf.to_csv('FinalMatches\\\\Adriatico\\\\CSK-SAO\\\\ALL_Adriatic_CSK-SAO.csv')\n",
    "# gdf[gdf['IoU']>0]\n",
    "# gdf\n",
    "# PlotProducts( gdf, 288)\n",
    "\n",
    "kml = get_poly_from_kml(path=\"AOI\\\\sardegna.kml\") # get AOI\n",
    "\n",
    "for id in range(len(df)):\n",
    "     mappa = PlotProducts2_AOI( gdf, id, aoi=kml)\n",
    "     if gdf.iloc[id].IoU> 0:\n",
    "          cond = 'matched'     \n",
    "     else:\n",
    "          cond ='sparse'\n",
    "\n",
    "\n",
    "     mappa.save(f'FinalMatches\\\\Sardegna\\\\CSK-SAO-AOI\\\\id_{id}__{cond}.html')"
   ]
  }
 ],
 "metadata": {
  "interpreter": {
   "hash": "4f68396e49950b2d12b3e0c1832b02cc7cd4df2ab7a1b3d401c471a833d3bd0f"
  },
  "kernelspec": {
   "display_name": "Python 3.7.1 64-bit ('py37': conda)",
   "name": "python3"
  },
  "language_info": {
   "codemirror_mode": {
    "name": "ipython",
    "version": 3
   },
   "file_extension": ".py",
   "mimetype": "text/x-python",
   "name": "python",
   "nbconvert_exporter": "python",
   "pygments_lexer": "ipython3",
   "version": "3.7.1"
  },
  "orig_nbformat": 4
 },
 "nbformat": 4,
 "nbformat_minor": 2
}
